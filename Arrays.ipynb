{
  "nbformat": 4,
  "nbformat_minor": 0,
  "metadata": {
    "colab": {
      "provenance": [],
      "authorship_tag": "ABX9TyOMwqzG1p1EnRSK0FgMfNeM",
      "include_colab_link": true
    },
    "kernelspec": {
      "name": "python3",
      "display_name": "Python 3"
    },
    "language_info": {
      "name": "python"
    }
  },
  "cells": [
    {
      "cell_type": "markdown",
      "metadata": {
        "id": "view-in-github",
        "colab_type": "text"
      },
      "source": [
        "<a href=\"https://colab.research.google.com/github/aditya1292/Shraddha-Khapra-DSA-Sheet-Solution-Hactoberfest/blob/main/Arrays.ipynb\" target=\"_parent\"><img src=\"https://colab.research.google.com/assets/colab-badge.svg\" alt=\"Open In Colab\"/></a>"
      ]
    },
    {
      "cell_type": "markdown",
      "source": [
        "**Maximum and Minimum Element in an Array using the minimum comparison**"
      ],
      "metadata": {
        "id": "hzphM9nJ4uOC"
      }
    },
    {
      "cell_type": "code",
      "execution_count": null,
      "metadata": {
        "id": "XRCMXnUf3Ckt"
      },
      "outputs": [],
      "source": [
        "def getMaxMin(arr):\n",
        "  n=len(arr)\n",
        "  if n%2==0:\n",
        "    mx,mn=max(arr[0],arr[1]),min(arr[0],arr[1])\n",
        "    i=2\n",
        "  else:\n",
        "    mx,mn=arr[0],arr[0]\n",
        "    i=1\n",
        "  while i<n-1:\n",
        "    if arr[i]<arr[i+1]:\n",
        "      mx=max(mx,arr[i+1])\n",
        "      mn=min(mx,arr[i])\n",
        "    else:\n",
        "      mx=max(mx,arr[i])\n",
        "      mn=min(mx,arr[i+1])\n",
        "    i+=2\n",
        "  return mx,mn\n",
        "\n",
        "\n"
      ]
    },
    {
      "cell_type": "markdown",
      "source": [
        "**Reverse words in a String**"
      ],
      "metadata": {
        "id": "LW1TcuZasVnI"
      }
    },
    {
      "cell_type": "code",
      "source": [
        "def reversestr(s):\n",
        "  # s in like \"i.like.this.program.very.much\"\n",
        "  s=s.split(\".\")\n",
        "  s.reverse()\n",
        "  return '.'.join(s)\n",
        "\n",
        "print(reversestr('i.like.this.program.very.much'))\n"
      ],
      "metadata": {
        "colab": {
          "base_uri": "https://localhost:8080/",
          "height": 35
        },
        "id": "H-72F6OBsZSl",
        "outputId": "c8fc771a-84b1-4c48-8f32-4f8c6840602c"
      },
      "execution_count": null,
      "outputs": [
        {
          "output_type": "execute_result",
          "data": {
            "text/plain": [
              "'much.very.program.this.like.i'"
            ],
            "application/vnd.google.colaboratory.intrinsic+json": {
              "type": "string"
            }
          },
          "metadata": {},
          "execution_count": 1
        }
      ]
    },
    {
      "cell_type": "markdown",
      "source": [
        "**Subarray with the Largest Sum**"
      ],
      "metadata": {
        "id": "HzmBoIbftNMK"
      }
    },
    {
      "cell_type": "code",
      "source": [
        "def largestsumsubarray(arr):\n",
        "  ans=max(arr)\n",
        "  cur=arr[0]\n",
        "  i=1\n",
        "  while i<len(arr):\n",
        "      if cur+arr[i]>arr[i]:\n",
        "          cur+=arr[i]\n",
        "      else:\n",
        "          cur=arr[i]\n",
        "      ans=max(cur,ans)\n",
        "      i+=1\n",
        "  return ans\n",
        "\n"
      ],
      "metadata": {
        "id": "N1sCcwGpsxjM"
      },
      "execution_count": null,
      "outputs": []
    },
    {
      "cell_type": "markdown",
      "source": [
        "**Contains Duplicate**"
      ],
      "metadata": {
        "id": "R7EsSXqZuUha"
      }
    },
    {
      "cell_type": "code",
      "source": [
        "def containduplicate(arr):\n",
        "  s=set()\n",
        "  for el in s:\n",
        "    if el in s:\n",
        "      return True\n",
        "    s.add(el)\n",
        "  return False\n"
      ],
      "metadata": {
        "id": "EDwWQPYiuToF"
      },
      "execution_count": null,
      "outputs": []
    },
    {
      "cell_type": "markdown",
      "source": [
        "**Chocolate Distribution Problem**"
      ],
      "metadata": {
        "id": "6VUYMPcuu00K"
      }
    },
    {
      "cell_type": "code",
      "source": [
        "def findMinDiff(arr,n,m):\n",
        "  \"\"\"\n",
        "  arr: given the packets of chocolate to distribute between the students\n",
        "  n : length of the arr\n",
        "  m : no of students to distribute the chocolates\n",
        "  \"\"\"\n",
        "  ans=float('inf')\n",
        "  arr.sort()\n",
        "  i=m-1\n",
        "  while i<n:\n",
        "    ans=min(arr[i]-arr[i-(m-1)],ans)\n",
        "    i+=1\n",
        "  return ans"
      ],
      "metadata": {
        "id": "Brgc7AgNvv12"
      },
      "execution_count": null,
      "outputs": []
    },
    {
      "cell_type": "markdown",
      "source": [
        "**Search in a Rotated Sorted Array**"
      ],
      "metadata": {
        "id": "XBUYFhAACdHy"
      }
    },
    {
      "cell_type": "code",
      "source": [
        "def search(arr, target):\n",
        "    def bs(i,j):\n",
        "        while i<=j:\n",
        "            m=i+(j-i)//2\n",
        "            if arr[m]==target:\n",
        "                return m\n",
        "            elif arr[m]>target:\n",
        "                j=m-1\n",
        "            else:\n",
        "                i=m+1\n",
        "        return -1\n",
        "    # This loop is for searching the index from where the arr had been rotated\n",
        "    n=len(arr)\n",
        "    l,r=0,n-1\n",
        "    while l<=r:\n",
        "        m=l+(r-l)//2\n",
        "        prev=(m+n-1)%n\n",
        "        next=(m+1)%n\n",
        "        if arr[prev]>=arr[m]<=arr[next]:\n",
        "            return max(bs(0,m-1),bs(m,n-1))\n",
        "        elif arr[m]>=arr[0]:\n",
        "            l=m+1\n",
        "        else:\n",
        "            r=m-1\n",
        "\n",
        "    return bs(0,n-1)"
      ],
      "metadata": {
        "id": "pwgJW2bQv1C5"
      },
      "execution_count": null,
      "outputs": []
    },
    {
      "cell_type": "markdown",
      "source": [
        "**Next Permutation**"
      ],
      "metadata": {
        "id": "chbTkw9YDQlS"
      }
    },
    {
      "cell_type": "code",
      "source": [
        "def nextPerm(arr):\n",
        "  n=len(arr)\n",
        "  pt=0\n",
        "  for i in range(n-1,0,-1):\n",
        "    if arr[i-1]<arr[i]:\n",
        "      pt=i\n",
        "      break\n",
        "  if pt==0:\n",
        "    arr.sort()\n",
        "    return arr\n",
        "  swap=n-1\n",
        "  while arr[pt-1]>=arr[swap]:\n",
        "    swap-=1\n",
        "  arr[pt-1],arr[swap]=arr[swap],arr[pt-1]\n",
        "  arr[pt:]=sorted(arr[pt:])\n",
        "  return arr\n",
        "\n",
        "print(nextPerm([1,1,3,7,5]))"
      ],
      "metadata": {
        "colab": {
          "base_uri": "https://localhost:8080/"
        },
        "id": "hFJeLQfiE1sD",
        "outputId": "101e6a74-991c-4f7d-b567-2f80918ca623"
      },
      "execution_count": null,
      "outputs": [
        {
          "output_type": "stream",
          "name": "stdout",
          "text": [
            "[1, 1, 5, 3, 7]\n"
          ]
        }
      ]
    },
    {
      "cell_type": "markdown",
      "source": [
        "**Best Time to Buy and Sell a Stock**"
      ],
      "metadata": {
        "id": "Bawb8TJoJ4yt"
      }
    },
    {
      "cell_type": "code",
      "source": [
        "def maxProfit(prices):\n",
        "    def largestsumsubarray(arr):\n",
        "        if not arr:\n",
        "            return 0\n",
        "        ans=arr[0]\n",
        "        cur=arr[0]\n",
        "        i=1\n",
        "        while i<len(arr):\n",
        "            if cur+arr[i]>arr[i]:\n",
        "                cur+=arr[i]\n",
        "            else:\n",
        "                cur=arr[i]\n",
        "            ans=max(cur,ans)\n",
        "            i+=1\n",
        "        return max(ans,0)\n",
        "\n",
        "    arr=[prices[i]-prices[i-1] for i in range(1,len(prices))]\n",
        "    return largestsumsubarray(arr)"
      ],
      "metadata": {
        "id": "xPsYFOIdFeAV"
      },
      "execution_count": null,
      "outputs": []
    },
    {
      "cell_type": "markdown",
      "source": [
        "**Repeat and Missing Number in an Array**"
      ],
      "metadata": {
        "id": "aoHIyQCvKMZy"
      }
    },
    {
      "cell_type": "code",
      "source": [
        "def findmissingandrepeated(arr):\n",
        "  xor=0\n",
        "  for i,val in enumerate(arr):\n",
        "      xor^=(i+1)^val\n",
        "  x,y=0,0\n",
        "  rsbm=xor&-xor\n",
        "  for i,val in enumerate(arr):\n",
        "      if val&rsbm:\n",
        "          x^=val\n",
        "      else:\n",
        "          y^=val\n",
        "\n",
        "      if (i+1)&rsbm:\n",
        "          x^=(i+1)\n",
        "      else:\n",
        "          y^=(i+1)\n",
        "  if x in arr:\n",
        "      return [x,y]\n",
        "  else:\n",
        "      return [y,x]\n",
        "\n",
        "print(findmissingandrepeated([3 ,1 ,2 ,5 ,3] ))"
      ],
      "metadata": {
        "colab": {
          "base_uri": "https://localhost:8080/"
        },
        "id": "S5RjIwYvL7sO",
        "outputId": "faec57a7-3293-4bd5-aeca-962537702b9d"
      },
      "execution_count": null,
      "outputs": [
        {
          "output_type": "stream",
          "name": "stdout",
          "text": [
            "[3, 4]\n"
          ]
        }
      ]
    },
    {
      "cell_type": "markdown",
      "source": [
        "**Kth Largest Element in an Array**"
      ],
      "metadata": {
        "id": "Pavnt1YlAmF9"
      }
    },
    {
      "cell_type": "code",
      "source": [
        "from heapq import heapify,heappush,heappop\n",
        "\n",
        "def kthlargest(arr,k):\n",
        "  h=[]\n",
        "  heapify(h)\n",
        "  for el in arr:\n",
        "    heappush(h,el)\n",
        "    if len(h)>k:\n",
        "      heappop(h)\n",
        "  return h[0]\n",
        "\n",
        "print(kthlargest([8,7,3,5,2],3))"
      ],
      "metadata": {
        "id": "W65U5Z8nMlwM",
        "colab": {
          "base_uri": "https://localhost:8080/"
        },
        "outputId": "ff843c79-ca9c-4edb-e18a-eb33fae5bf53"
      },
      "execution_count": null,
      "outputs": [
        {
          "output_type": "stream",
          "name": "stdout",
          "text": [
            "5\n"
          ]
        }
      ]
    },
    {
      "cell_type": "markdown",
      "source": [
        "**Trapping Rain Water**"
      ],
      "metadata": {
        "id": "o2tr_S_QdKgN"
      }
    },
    {
      "cell_type": "code",
      "source": [
        "def trap(height):\n",
        "    def getmax(arr):\n",
        "        ans=[arr[0]]\n",
        "        for i in range(1,len(arr)):\n",
        "            ans.append(max(ans[-1],arr[i]))\n",
        "        ans[0]=float('-inf')\n",
        "        return ans\n",
        "\n",
        "    ml=getmax(height)\n",
        "    mr=getmax(height[::-1])[::-1]\n",
        "    ans=0\n",
        "    for i,t in enumerate(zip(ml,mr,height)):\n",
        "        l,r,el=t\n",
        "        ans+=(min(l,r)-el) if min(l,r)-el>0 else 0\n",
        "    return ans\n"
      ],
      "metadata": {
        "id": "OBpRDkioBSbB"
      },
      "execution_count": null,
      "outputs": []
    },
    {
      "cell_type": "markdown",
      "source": [
        "**Product of array except self**"
      ],
      "metadata": {
        "id": "pC-fmSPRfvjK"
      }
    },
    {
      "cell_type": "code",
      "source": [
        "def productExceptSelf(nums):\n",
        "  def getprod(arr):\n",
        "      ans=[1]\n",
        "      for i in range(1,len(arr)):\n",
        "          ans.append(ans[-1]*arr[i-1])\n",
        "      return ans\n",
        "\n",
        "  pl=getprod(nums)\n",
        "  pr=getprod(nums[::-1])[::-1]\n",
        "\n",
        "  return [l*r for l,r in zip(pl,pr)]"
      ],
      "metadata": {
        "id": "uOTfVmjGdUQP"
      },
      "execution_count": null,
      "outputs": []
    },
    {
      "cell_type": "markdown",
      "source": [
        "**Maximum Product Subarray**"
      ],
      "metadata": {
        "id": "44fgw9nRi_c3"
      }
    },
    {
      "cell_type": "code",
      "source": [
        "def maxProduct(nums):\n",
        "    ans=max(nums)\n",
        "    mx,mn=1,1\n",
        "    for el in nums:\n",
        "        if not el:mx,mn=1,1\n",
        "        else:\n",
        "            mx,mn=max(mx*el,mn*el,el),(min(mn*el,mx*el,el))\n",
        "            ans=max(ans,mx)\n",
        "    return ans"
      ],
      "metadata": {
        "id": "2sKJWo-KgEoF"
      },
      "execution_count": null,
      "outputs": []
    },
    {
      "cell_type": "markdown",
      "source": [
        "**Find Min in Rotated Sorted Array**"
      ],
      "metadata": {
        "id": "Tnbn_S9Oy73T"
      }
    },
    {
      "cell_type": "code",
      "source": [
        "def findMin(nums):\n",
        "    l,r=0,len(nums)-1\n",
        "    while l<=r:\n",
        "        m=(l+r)>>1\n",
        "        nxt=nums[(m+1)%len(nums)]\n",
        "        prev=nums[(m-1+len(nums))%len(nums)]\n",
        "        if nums[m]<prev and nums[m]<nxt:\n",
        "            return nums[m]\n",
        "        elif nums[m]>=nums[0]:\n",
        "            l=m+1\n",
        "        else:\n",
        "            r=m-1\n",
        "    return nums[0]"
      ],
      "metadata": {
        "id": "aHd7M2xCy_N1"
      },
      "execution_count": null,
      "outputs": []
    },
    {
      "cell_type": "markdown",
      "source": [
        "**Find Pair with sum in Sorted and Rotated Array**"
      ],
      "metadata": {
        "id": "D4q0tMOkzW1i"
      }
    },
    {
      "cell_type": "code",
      "source": [
        "def findPair(arr,x):\n",
        "  n=len(arr)\n",
        "  def get_ind(arr):\n",
        "    l,r=0,n-1\n",
        "    while l<=r:\n",
        "      m=(l+r)>>1\n",
        "      nxt=(m+1)%n\n",
        "      prev=(m-1+n)%n\n",
        "      if arr[prev]>=arr[m]<=arr[nxt]:\n",
        "        return m\n",
        "      elif arr[m]>=arr[0]:\n",
        "        l=m+1\n",
        "      else:\n",
        "        r=m-1\n",
        "    return 0\n",
        "\n",
        "\n",
        "  ind=get_ind(arr)\n",
        "  l,r=get_ind,(get_ind-1+n)%n\n",
        "  while l!=r:\n",
        "    if arr[l]+arr[r]==x:\n",
        "      return True\n",
        "    elif arr[l]+arr[r]>x:\n",
        "      r=(r-1+n)%n\n",
        "    else:\n",
        "      l=(l+1)%n\n",
        "  return False\n",
        "\n",
        "arr=list(map(int,input().split()))\n",
        "target=int(input())\n",
        "\n"
      ],
      "metadata": {
        "id": "S8wQF3KjzGSg"
      },
      "execution_count": null,
      "outputs": []
    }
  ]
}